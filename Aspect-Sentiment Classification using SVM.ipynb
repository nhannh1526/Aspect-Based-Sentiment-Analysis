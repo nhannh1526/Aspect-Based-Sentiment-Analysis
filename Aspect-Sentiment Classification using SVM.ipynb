{
 "cells": [
  {
   "cell_type": "code",
   "execution_count": 1,
   "id": "141bea20",
   "metadata": {
    "ExecuteTime": {
     "end_time": "2021-11-09T14:21:43.877607Z",
     "start_time": "2021-11-09T14:21:43.265745Z"
    }
   },
   "outputs": [],
   "source": [
    "import pandas as pd"
   ]
  },
  {
   "cell_type": "markdown",
   "id": "af0ecba8",
   "metadata": {},
   "source": [
    "# Data"
   ]
  },
  {
   "cell_type": "code",
   "execution_count": 2,
   "id": "25a54dff",
   "metadata": {
    "ExecuteTime": {
     "end_time": "2021-11-09T14:21:43.939707Z",
     "start_time": "2021-11-09T14:21:43.879603Z"
    }
   },
   "outputs": [],
   "source": [
    "train = pd.read_csv(\"data/preprocessed_training_set.csv\", encoding=\"utf-8\")\n",
    "dev = pd.read_csv(\"data/preprocessed_dev_set.csv\", encoding=\"utf-8\")\n",
    "test = pd.read_csv(\"data/preprocessed_test_set.csv\", encoding=\"utf-8\")"
   ]
  },
  {
   "cell_type": "markdown",
   "id": "fec4e4be",
   "metadata": {},
   "source": [
    "# Preprocessing"
   ]
  },
  {
   "cell_type": "code",
   "execution_count": 3,
   "id": "cfc0500f",
   "metadata": {
    "ExecuteTime": {
     "end_time": "2021-11-09T14:21:44.096552Z",
     "start_time": "2021-11-09T14:21:43.940705Z"
    }
   },
   "outputs": [],
   "source": [
    "from ast import literal_eval\n",
    "\n",
    "X_train = train[\"Sentence\"]\n",
    "y_train = train[\"Polarity\"].apply(literal_eval)\n",
    "\n",
    "X_dev = dev[\"Sentence\"]\n",
    "y_dev = dev[\"Polarity\"].apply(literal_eval)\n",
    "\n",
    "X_test = test[\"Sentence\"]\n",
    "y_test = test[\"Polarity\"].apply(literal_eval)"
   ]
  },
  {
   "cell_type": "code",
   "execution_count": 4,
   "id": "384bdf09",
   "metadata": {
    "ExecuteTime": {
     "end_time": "2021-11-09T14:21:44.112057Z",
     "start_time": "2021-11-09T14:21:44.097549Z"
    }
   },
   "outputs": [],
   "source": [
    "def get_aspect_polarity(item):\n",
    "    for k, v in item.items():\n",
    "        aspect = k\n",
    "        polarity = v\n",
    "    return f\"{aspect}:{polarity}\"\n",
    "\n",
    "\n",
    "def create_true_label(label):\n",
    "    return [get_aspect_polarity(item) for item in label]"
   ]
  },
  {
   "cell_type": "code",
   "execution_count": 5,
   "id": "0802f915",
   "metadata": {
    "ExecuteTime": {
     "end_time": "2021-11-09T14:21:44.173647Z",
     "start_time": "2021-11-09T14:21:44.115051Z"
    }
   },
   "outputs": [],
   "source": [
    "y_train = y_train.apply(create_true_label)\n",
    "y_dev = y_dev.apply(create_true_label)\n",
    "y_test = y_test.apply(create_true_label)"
   ]
  },
  {
   "cell_type": "markdown",
   "id": "7a2d7057",
   "metadata": {},
   "source": [
    "## Label encoding"
   ]
  },
  {
   "cell_type": "code",
   "execution_count": 6,
   "id": "8da9dfde",
   "metadata": {
    "ExecuteTime": {
     "end_time": "2021-11-09T14:21:44.753925Z",
     "start_time": "2021-11-09T14:21:44.174609Z"
    }
   },
   "outputs": [],
   "source": [
    "from sklearn.preprocessing import MultiLabelBinarizer\n",
    "\n",
    "mlb = MultiLabelBinarizer()\n",
    "mlb.fit(y_train)\n",
    "\n",
    "y_train = mlb.transform(y_train)\n",
    "y_dev = mlb.transform(y_dev)\n",
    "y_test = mlb.transform(y_test)"
   ]
  },
  {
   "cell_type": "code",
   "execution_count": 7,
   "id": "56f4d9d6",
   "metadata": {
    "ExecuteTime": {
     "end_time": "2021-11-09T14:21:44.769453Z",
     "start_time": "2021-11-09T14:21:44.755923Z"
    }
   },
   "outputs": [
    {
     "name": "stdout",
     "output_type": "stream",
     "text": [
      "[0 0 0 0 0 0 0 0 0 0 0 0 0 0 0 0 0 0 0 0 1 0 0 0 0 0 0 0 0 0 0 1 0 0 0 0]\n",
      "[('FOOD#STYLE&OPTIONS:positive', 'RESTAURANT#PRICES:neutral')]\n",
      "['AMBIENCE#GENERAL:negative' 'AMBIENCE#GENERAL:neutral'\n",
      " 'AMBIENCE#GENERAL:positive' 'DRINKS#PRICES:negative'\n",
      " 'DRINKS#PRICES:neutral' 'DRINKS#PRICES:positive'\n",
      " 'DRINKS#QUALITY:negative' 'DRINKS#QUALITY:neutral'\n",
      " 'DRINKS#QUALITY:positive' 'DRINKS#STYLE&OPTIONS:negative'\n",
      " 'DRINKS#STYLE&OPTIONS:neutral' 'DRINKS#STYLE&OPTIONS:positive'\n",
      " 'FOOD#PRICES:negative' 'FOOD#PRICES:neutral' 'FOOD#PRICES:positive'\n",
      " 'FOOD#QUALITY:negative' 'FOOD#QUALITY:neutral' 'FOOD#QUALITY:positive'\n",
      " 'FOOD#STYLE&OPTIONS:negative' 'FOOD#STYLE&OPTIONS:neutral'\n",
      " 'FOOD#STYLE&OPTIONS:positive' 'LOCATION#GENERAL:negative'\n",
      " 'LOCATION#GENERAL:neutral' 'LOCATION#GENERAL:positive'\n",
      " 'RESTAURANT#GENERAL:negative' 'RESTAURANT#GENERAL:neutral'\n",
      " 'RESTAURANT#GENERAL:positive' 'RESTAURANT#MISCELLANEOUS:negative'\n",
      " 'RESTAURANT#MISCELLANEOUS:neutral' 'RESTAURANT#MISCELLANEOUS:positive'\n",
      " 'RESTAURANT#PRICES:negative' 'RESTAURANT#PRICES:neutral'\n",
      " 'RESTAURANT#PRICES:positive' 'SERVICE#GENERAL:negative'\n",
      " 'SERVICE#GENERAL:neutral' 'SERVICE#GENERAL:positive']\n"
     ]
    }
   ],
   "source": [
    "# Getting a sense of how the tags data looks like\n",
    "print(y_test[-1])\n",
    "print(mlb.inverse_transform(y_test[-1].reshape(1, -1)))\n",
    "print(mlb.classes_)"
   ]
  },
  {
   "cell_type": "markdown",
   "id": "0ee0102c",
   "metadata": {},
   "source": [
    "# Model"
   ]
  },
  {
   "cell_type": "code",
   "execution_count": 8,
   "id": "141be910",
   "metadata": {
    "ExecuteTime": {
     "end_time": "2021-11-09T14:21:44.878766Z",
     "start_time": "2021-11-09T14:21:44.770451Z"
    }
   },
   "outputs": [],
   "source": [
    "from sklearn.pipeline import Pipeline\n",
    "from sklearn.feature_extraction.text import CountVectorizer, TfidfTransformer\n",
    "from sklearn.svm import LinearSVC\n",
    "from sklearn.multiclass import OneVsRestClassifier"
   ]
  },
  {
   "cell_type": "code",
   "execution_count": 9,
   "id": "af88e320",
   "metadata": {
    "ExecuteTime": {
     "end_time": "2021-11-09T14:21:44.893677Z",
     "start_time": "2021-11-09T14:21:44.879760Z"
    }
   },
   "outputs": [],
   "source": [
    "pipeline = []\n",
    "pipeline.append((\"CountVectorizer\",\n",
    "                 CountVectorizer(ngram_range=(1, 2), max_df=0.5, min_df=5)))\n",
    "pipeline.append((\"tfidf\",\n",
    "                 TfidfTransformer(use_idf=False,\n",
    "                                  sublinear_tf=True,\n",
    "                                  norm=\"l2\",\n",
    "                                  smooth_idf=True)))\n",
    "pipeline.append((\"classifier\", OneVsRestClassifier(LinearSVC())))\n",
    "clf = Pipeline(pipeline)"
   ]
  },
  {
   "cell_type": "markdown",
   "id": "5c7c4170",
   "metadata": {},
   "source": [
    "# Training"
   ]
  },
  {
   "cell_type": "code",
   "execution_count": 10,
   "id": "11a0dced",
   "metadata": {
    "ExecuteTime": {
     "end_time": "2021-11-09T14:21:45.852046Z",
     "start_time": "2021-11-09T14:21:44.895671Z"
    }
   },
   "outputs": [],
   "source": [
    "clf.fit(X_train, y_train)\n",
    "y_pred = clf.predict(X_test)"
   ]
  },
  {
   "cell_type": "markdown",
   "id": "e62c2fa0",
   "metadata": {},
   "source": [
    "# Evaluation"
   ]
  },
  {
   "cell_type": "code",
   "execution_count": 11,
   "id": "8625d63a",
   "metadata": {
    "ExecuteTime": {
     "end_time": "2021-11-09T14:21:45.868007Z",
     "start_time": "2021-11-09T14:21:45.853046Z"
    }
   },
   "outputs": [],
   "source": [
    "from sklearn.metrics import f1_score, classification_report, accuracy_score"
   ]
  },
  {
   "cell_type": "code",
   "execution_count": 12,
   "id": "bbb066d5",
   "metadata": {
    "ExecuteTime": {
     "end_time": "2021-11-09T14:21:45.883963Z",
     "start_time": "2021-11-09T14:21:45.870003Z"
    }
   },
   "outputs": [
    {
     "name": "stdout",
     "output_type": "stream",
     "text": [
      "0.31320949432404543\n"
     ]
    }
   ],
   "source": [
    "print(accuracy_score(y_test, y_pred))"
   ]
  },
  {
   "cell_type": "code",
   "execution_count": 13,
   "id": "480c9517",
   "metadata": {
    "ExecuteTime": {
     "end_time": "2021-11-09T14:21:45.915878Z",
     "start_time": "2021-11-09T14:21:45.885961Z"
    }
   },
   "outputs": [
    {
     "name": "stdout",
     "output_type": "stream",
     "text": [
      "0.5212633673215619\n"
     ]
    }
   ],
   "source": [
    "print(f1_score(y_test, y_pred, average=\"micro\"))"
   ]
  },
  {
   "cell_type": "code",
   "execution_count": 14,
   "id": "7a11ff71",
   "metadata": {
    "ExecuteTime": {
     "end_time": "2021-11-09T14:21:45.946825Z",
     "start_time": "2021-11-09T14:21:45.916876Z"
    }
   },
   "outputs": [
    {
     "name": "stdout",
     "output_type": "stream",
     "text": [
      "                                   precision    recall  f1-score   support\n",
      "\n",
      "        AMBIENCE#GENERAL:negative       0.83      0.27      0.41        37\n",
      "         AMBIENCE#GENERAL:neutral       0.40      0.13      0.20        30\n",
      "        AMBIENCE#GENERAL:positive       0.87      0.66      0.75       160\n",
      "           DRINKS#PRICES:negative       0.00      0.00      0.00         5\n",
      "            DRINKS#PRICES:neutral       0.50      0.06      0.11        32\n",
      "           DRINKS#PRICES:positive       0.00      0.00      0.00        10\n",
      "          DRINKS#QUALITY:negative       0.60      0.12      0.19        26\n",
      "           DRINKS#QUALITY:neutral       0.75      0.06      0.12        48\n",
      "          DRINKS#QUALITY:positive       0.63      0.49      0.55       129\n",
      "    DRINKS#STYLE&OPTIONS:negative       0.00      0.00      0.00        10\n",
      "     DRINKS#STYLE&OPTIONS:neutral       0.66      0.34      0.45        62\n",
      "    DRINKS#STYLE&OPTIONS:positive       0.88      0.12      0.22        57\n",
      "             FOOD#PRICES:negative       0.00      0.00      0.00        10\n",
      "              FOOD#PRICES:neutral       0.54      0.10      0.17        71\n",
      "             FOOD#PRICES:positive       0.60      0.10      0.17        31\n",
      "            FOOD#QUALITY:negative       0.68      0.22      0.33        78\n",
      "             FOOD#QUALITY:neutral       0.61      0.19      0.29        75\n",
      "            FOOD#QUALITY:positive       0.80      0.73      0.76       401\n",
      "      FOOD#STYLE&OPTIONS:negative       0.80      0.21      0.33        58\n",
      "       FOOD#STYLE&OPTIONS:neutral       0.56      0.31      0.40       173\n",
      "      FOOD#STYLE&OPTIONS:positive       0.65      0.36      0.46       206\n",
      "        LOCATION#GENERAL:negative       1.00      0.20      0.33        10\n",
      "         LOCATION#GENERAL:neutral       0.67      0.36      0.47        44\n",
      "        LOCATION#GENERAL:positive       0.93      0.52      0.67        50\n",
      "      RESTAURANT#GENERAL:negative       1.00      0.14      0.24        37\n",
      "       RESTAURANT#GENERAL:neutral       0.50      0.19      0.27        59\n",
      "      RESTAURANT#GENERAL:positive       0.74      0.33      0.46       155\n",
      "RESTAURANT#MISCELLANEOUS:negative       0.71      0.15      0.24        34\n",
      " RESTAURANT#MISCELLANEOUS:neutral       0.00      0.00      0.00        19\n",
      "RESTAURANT#MISCELLANEOUS:positive       0.84      0.28      0.42        92\n",
      "       RESTAURANT#PRICES:negative       0.92      0.42      0.58        26\n",
      "        RESTAURANT#PRICES:neutral       0.83      0.36      0.51        55\n",
      "       RESTAURANT#PRICES:positive       0.69      0.25      0.37        36\n",
      "         SERVICE#GENERAL:negative       0.72      0.44      0.55       104\n",
      "          SERVICE#GENERAL:neutral       0.50      0.09      0.15        23\n",
      "         SERVICE#GENERAL:positive       0.93      0.72      0.81       176\n",
      "\n",
      "                        micro avg       0.75      0.40      0.52      2629\n",
      "                        macro avg       0.62      0.25      0.33      2629\n",
      "                     weighted avg       0.72      0.40      0.49      2629\n",
      "                      samples avg       0.46      0.42      0.43      2629\n",
      "\n"
     ]
    }
   ],
   "source": [
    "print(\n",
    "    classification_report(y_test,\n",
    "                          y_pred,\n",
    "                          target_names=mlb.classes_,\n",
    "                          zero_division=0))"
   ]
  },
  {
   "cell_type": "code",
   "execution_count": 15,
   "id": "783f67eb",
   "metadata": {
    "ExecuteTime": {
     "end_time": "2021-11-09T14:21:45.994684Z",
     "start_time": "2021-11-09T14:21:45.948821Z"
    }
   },
   "outputs": [
    {
     "data": {
      "text/html": [
       "<div>\n",
       "<style scoped>\n",
       "    .dataframe tbody tr th:only-of-type {\n",
       "        vertical-align: middle;\n",
       "    }\n",
       "\n",
       "    .dataframe tbody tr th {\n",
       "        vertical-align: top;\n",
       "    }\n",
       "\n",
       "    .dataframe thead th {\n",
       "        text-align: right;\n",
       "    }\n",
       "</style>\n",
       "<table border=\"1\" class=\"dataframe\">\n",
       "  <thead>\n",
       "    <tr style=\"text-align: right;\">\n",
       "      <th></th>\n",
       "      <th>Body</th>\n",
       "      <th>Actual</th>\n",
       "      <th>Predicted</th>\n",
       "    </tr>\n",
       "  </thead>\n",
       "  <tbody>\n",
       "    <tr>\n",
       "      <th>982</th>\n",
       "      <td>tuy_nhiên bù lại không_gian khá lạ , có nhiều ...</td>\n",
       "      <td>(AMBIENCE#GENERAL:positive, RESTAURANT#MISCELL...</td>\n",
       "      <td>()</td>\n",
       "    </tr>\n",
       "    <tr>\n",
       "      <th>535</th>\n",
       "      <td>nhà_hàng ko có được cái chỗ giữ xe cho ra_hồn .</td>\n",
       "      <td>(RESTAURANT#MISCELLANEOUS:negative,)</td>\n",
       "      <td>(RESTAURANT#MISCELLANEOUS:negative,)</td>\n",
       "    </tr>\n",
       "    <tr>\n",
       "      <th>1517</th>\n",
       "      <td>giá khá mắc nhưng chấp_nhận đc , phục_vụ thân_...</td>\n",
       "      <td>(RESTAURANT#PRICES:negative, SERVICE#GENERAL:p...</td>\n",
       "      <td>(SERVICE#GENERAL:positive,)</td>\n",
       "    </tr>\n",
       "    <tr>\n",
       "      <th>1613</th>\n",
       "      <td>bánh ship tới nhanh , nóng_hổi vừa ăn .</td>\n",
       "      <td>(FOOD#QUALITY:positive, SERVICE#GENERAL:positive)</td>\n",
       "      <td>(FOOD#QUALITY:positive, SERVICE#GENERAL:positive)</td>\n",
       "    </tr>\n",
       "    <tr>\n",
       "      <th>1499</th>\n",
       "      <td>dở khủng_khiếp trong khi phải xếp_hàng dài gần...</td>\n",
       "      <td>(RESTAURANT#GENERAL:negative, SERVICE#GENERAL:...</td>\n",
       "      <td>(FOOD#QUALITY:negative,)</td>\n",
       "    </tr>\n",
       "    <tr>\n",
       "      <th>488</th>\n",
       "      <td>à , ngoài_ra còn có vài món nhậu bình_dân , ch...</td>\n",
       "      <td>(FOOD#STYLE&amp;OPTIONS:neutral,)</td>\n",
       "      <td>()</td>\n",
       "    </tr>\n",
       "    <tr>\n",
       "      <th>833</th>\n",
       "      <td>vị_trí đẹp , thoáng_đãng .</td>\n",
       "      <td>(LOCATION#GENERAL:positive,)</td>\n",
       "      <td>(AMBIENCE#GENERAL:positive, LOCATION#GENERAL:p...</td>\n",
       "    </tr>\n",
       "    <tr>\n",
       "      <th>1847</th>\n",
       "      <td>tuy_nhiên cục giò mỡ quá , thịt còn hôi mùi bò...</td>\n",
       "      <td>(FOOD#QUALITY:negative, FOOD#STYLE&amp;OPTIONS:pos...</td>\n",
       "      <td>(FOOD#QUALITY:negative,)</td>\n",
       "    </tr>\n",
       "    <tr>\n",
       "      <th>1036</th>\n",
       "      <td>ở đây ngay tầng một vào là thấy rồi các bạn có...</td>\n",
       "      <td>(RESTAURANT#GENERAL:positive,)</td>\n",
       "      <td>()</td>\n",
       "    </tr>\n",
       "    <tr>\n",
       "      <th>157</th>\n",
       "      <td>khu này đông_đúc và nhiều món ăn phết ấy , lại...</td>\n",
       "      <td>(FOOD#PRICES:positive, FOOD#STYLE&amp;OPTIONS:posi...</td>\n",
       "      <td>(FOOD#STYLE&amp;OPTIONS:positive,)</td>\n",
       "    </tr>\n",
       "  </tbody>\n",
       "</table>\n",
       "</div>"
      ],
      "text/plain": [
       "                                                   Body  \\\n",
       "982   tuy_nhiên bù lại không_gian khá lạ , có nhiều ...   \n",
       "535     nhà_hàng ko có được cái chỗ giữ xe cho ra_hồn .   \n",
       "1517  giá khá mắc nhưng chấp_nhận đc , phục_vụ thân_...   \n",
       "1613            bánh ship tới nhanh , nóng_hổi vừa ăn .   \n",
       "1499  dở khủng_khiếp trong khi phải xếp_hàng dài gần...   \n",
       "488   à , ngoài_ra còn có vài món nhậu bình_dân , ch...   \n",
       "833                          vị_trí đẹp , thoáng_đãng .   \n",
       "1847  tuy_nhiên cục giò mỡ quá , thịt còn hôi mùi bò...   \n",
       "1036  ở đây ngay tầng một vào là thấy rồi các bạn có...   \n",
       "157   khu này đông_đúc và nhiều món ăn phết ấy , lại...   \n",
       "\n",
       "                                                 Actual  \\\n",
       "982   (AMBIENCE#GENERAL:positive, RESTAURANT#MISCELL...   \n",
       "535                (RESTAURANT#MISCELLANEOUS:negative,)   \n",
       "1517  (RESTAURANT#PRICES:negative, SERVICE#GENERAL:p...   \n",
       "1613  (FOOD#QUALITY:positive, SERVICE#GENERAL:positive)   \n",
       "1499  (RESTAURANT#GENERAL:negative, SERVICE#GENERAL:...   \n",
       "488                       (FOOD#STYLE&OPTIONS:neutral,)   \n",
       "833                        (LOCATION#GENERAL:positive,)   \n",
       "1847  (FOOD#QUALITY:negative, FOOD#STYLE&OPTIONS:pos...   \n",
       "1036                     (RESTAURANT#GENERAL:positive,)   \n",
       "157   (FOOD#PRICES:positive, FOOD#STYLE&OPTIONS:posi...   \n",
       "\n",
       "                                              Predicted  \n",
       "982                                                  ()  \n",
       "535                (RESTAURANT#MISCELLANEOUS:negative,)  \n",
       "1517                        (SERVICE#GENERAL:positive,)  \n",
       "1613  (FOOD#QUALITY:positive, SERVICE#GENERAL:positive)  \n",
       "1499                           (FOOD#QUALITY:negative,)  \n",
       "488                                                  ()  \n",
       "833   (AMBIENCE#GENERAL:positive, LOCATION#GENERAL:p...  \n",
       "1847                           (FOOD#QUALITY:negative,)  \n",
       "1036                                                 ()  \n",
       "157                      (FOOD#STYLE&OPTIONS:positive,)  "
      ]
     },
     "execution_count": 15,
     "metadata": {},
     "output_type": "execute_result"
    }
   ],
   "source": [
    "import numpy as np\n",
    "\n",
    "pred = mlb.inverse_transform(np.array(y_pred))\n",
    "act = mlb.inverse_transform(y_test)\n",
    "\n",
    "df = pd.DataFrame({\"Body\": X_test, \"Actual\": act, \"Predicted\": pred})\n",
    "df.sample(10)"
   ]
  }
 ],
 "metadata": {
  "hide_input": false,
  "kernelspec": {
   "display_name": "Python 3 (ipykernel)",
   "language": "python",
   "name": "python3"
  },
  "language_info": {
   "codemirror_mode": {
    "name": "ipython",
    "version": 3
   },
   "file_extension": ".py",
   "mimetype": "text/x-python",
   "name": "python",
   "nbconvert_exporter": "python",
   "pygments_lexer": "ipython3",
   "version": "3.8.8"
  },
  "nbTranslate": {
   "displayLangs": [
    "*"
   ],
   "hotkey": "alt-t",
   "langInMainMenu": true,
   "sourceLang": "en",
   "targetLang": "fr",
   "useGoogleTranslate": true
  },
  "toc": {
   "base_numbering": 1,
   "nav_menu": {},
   "number_sections": true,
   "sideBar": true,
   "skip_h1_title": false,
   "title_cell": "Table of Contents",
   "title_sidebar": "Contents",
   "toc_cell": false,
   "toc_position": {},
   "toc_section_display": true,
   "toc_window_display": false
  },
  "varInspector": {
   "cols": {
    "lenName": 16,
    "lenType": 16,
    "lenVar": 40
   },
   "kernels_config": {
    "python": {
     "delete_cmd_postfix": "",
     "delete_cmd_prefix": "del ",
     "library": "var_list.py",
     "varRefreshCmd": "print(var_dic_list())"
    },
    "r": {
     "delete_cmd_postfix": ") ",
     "delete_cmd_prefix": "rm(",
     "library": "var_list.r",
     "varRefreshCmd": "cat(var_dic_list()) "
    }
   },
   "types_to_exclude": [
    "module",
    "function",
    "builtin_function_or_method",
    "instance",
    "_Feature"
   ],
   "window_display": false
  }
 },
 "nbformat": 4,
 "nbformat_minor": 5
}
