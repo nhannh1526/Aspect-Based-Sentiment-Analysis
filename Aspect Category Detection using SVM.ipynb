{
 "cells": [
  {
   "cell_type": "code",
   "execution_count": 1,
   "id": "141bea20",
   "metadata": {
    "ExecuteTime": {
     "end_time": "2021-11-09T14:18:50.216174Z",
     "start_time": "2021-11-09T14:18:49.558858Z"
    }
   },
   "outputs": [],
   "source": [
    "import pandas as pd"
   ]
  },
  {
   "cell_type": "markdown",
   "id": "af0ecba8",
   "metadata": {},
   "source": [
    "# Data"
   ]
  },
  {
   "cell_type": "code",
   "execution_count": 2,
   "id": "25a54dff",
   "metadata": {
    "ExecuteTime": {
     "end_time": "2021-11-09T14:18:50.278763Z",
     "start_time": "2021-11-09T14:18:50.217173Z"
    }
   },
   "outputs": [],
   "source": [
    "train = pd.read_csv(\"data/preprocessed_training_set.csv\", encoding=\"utf-8\")\n",
    "dev = pd.read_csv(\"data/preprocessed_dev_set.csv\", encoding=\"utf-8\")\n",
    "test = pd.read_csv(\"data/preprocessed_test_set.csv\", encoding=\"utf-8\")"
   ]
  },
  {
   "cell_type": "markdown",
   "id": "fec4e4be",
   "metadata": {},
   "source": [
    "# Preprocessing"
   ]
  },
  {
   "cell_type": "code",
   "execution_count": 3,
   "id": "cfc0500f",
   "metadata": {
    "ExecuteTime": {
     "end_time": "2021-11-09T14:18:50.388751Z",
     "start_time": "2021-11-09T14:18:50.281760Z"
    }
   },
   "outputs": [],
   "source": [
    "from ast import literal_eval\n",
    "\n",
    "X_train = train[\"Sentence\"]\n",
    "y_train = train[\"Aspect\"].apply(literal_eval)\n",
    "\n",
    "X_dev = dev[\"Sentence\"]\n",
    "y_dev = dev[\"Aspect\"].apply(literal_eval)\n",
    "\n",
    "X_test = test[\"Sentence\"]\n",
    "y_test = test[\"Aspect\"].apply(literal_eval)"
   ]
  },
  {
   "cell_type": "markdown",
   "id": "7a2d7057",
   "metadata": {},
   "source": [
    "## Label encoding"
   ]
  },
  {
   "cell_type": "code",
   "execution_count": 4,
   "id": "8da9dfde",
   "metadata": {
    "ExecuteTime": {
     "end_time": "2021-11-09T14:18:50.999461Z",
     "start_time": "2021-11-09T14:18:50.389749Z"
    }
   },
   "outputs": [],
   "source": [
    "from sklearn.preprocessing import MultiLabelBinarizer\n",
    "\n",
    "mlb = MultiLabelBinarizer()\n",
    "mlb.fit(y_train)\n",
    "\n",
    "y_train = mlb.transform(y_train)\n",
    "y_dev = mlb.transform(y_dev)\n",
    "y_test = mlb.transform(y_test)"
   ]
  },
  {
   "cell_type": "code",
   "execution_count": 5,
   "id": "56f4d9d6",
   "metadata": {
    "ExecuteTime": {
     "end_time": "2021-11-09T14:18:51.014918Z",
     "start_time": "2021-11-09T14:18:51.000459Z"
    }
   },
   "outputs": [
    {
     "name": "stdout",
     "output_type": "stream",
     "text": [
      "[0 0 0 0 0 0 1 0 0 0 1 0]\n",
      "[('FOOD#STYLE&OPTIONS', 'RESTAURANT#PRICES')]\n",
      "['AMBIENCE#GENERAL' 'DRINKS#PRICES' 'DRINKS#QUALITY'\n",
      " 'DRINKS#STYLE&OPTIONS' 'FOOD#PRICES' 'FOOD#QUALITY' 'FOOD#STYLE&OPTIONS'\n",
      " 'LOCATION#GENERAL' 'RESTAURANT#GENERAL' 'RESTAURANT#MISCELLANEOUS'\n",
      " 'RESTAURANT#PRICES' 'SERVICE#GENERAL']\n"
     ]
    }
   ],
   "source": [
    "# Getting a sense of how the tags data looks like\n",
    "print(y_test[-1])\n",
    "print(mlb.inverse_transform(y_test[-1].reshape(1, -1)))\n",
    "print(mlb.classes_)"
   ]
  },
  {
   "cell_type": "markdown",
   "id": "0ee0102c",
   "metadata": {},
   "source": [
    "# Model"
   ]
  },
  {
   "cell_type": "code",
   "execution_count": 6,
   "id": "141be910",
   "metadata": {
    "ExecuteTime": {
     "end_time": "2021-11-09T14:18:51.108739Z",
     "start_time": "2021-11-09T14:18:51.015915Z"
    }
   },
   "outputs": [],
   "source": [
    "from sklearn.pipeline import Pipeline\n",
    "from sklearn.feature_extraction.text import CountVectorizer, TfidfTransformer\n",
    "from sklearn.svm import LinearSVC\n",
    "from sklearn.multiclass import OneVsRestClassifier"
   ]
  },
  {
   "cell_type": "code",
   "execution_count": 7,
   "id": "af88e320",
   "metadata": {
    "ExecuteTime": {
     "end_time": "2021-11-09T14:18:51.124695Z",
     "start_time": "2021-11-09T14:18:51.109737Z"
    }
   },
   "outputs": [],
   "source": [
    "pipeline = []\n",
    "pipeline.append((\"CountVectorizer\",\n",
    "                 CountVectorizer(ngram_range=(1, 2), max_df=0.5, min_df=5)))\n",
    "pipeline.append((\"tfidf\",\n",
    "                 TfidfTransformer(use_idf=False,\n",
    "                                  sublinear_tf=True,\n",
    "                                  norm=\"l2\",\n",
    "                                  smooth_idf=True)))\n",
    "pipeline.append((\"classifier\", OneVsRestClassifier(LinearSVC())))\n",
    "clf = Pipeline(pipeline)"
   ]
  },
  {
   "cell_type": "markdown",
   "id": "5c7c4170",
   "metadata": {},
   "source": [
    "# Training"
   ]
  },
  {
   "cell_type": "code",
   "execution_count": 8,
   "id": "11a0dced",
   "metadata": {
    "ExecuteTime": {
     "end_time": "2021-11-09T14:18:51.677346Z",
     "start_time": "2021-11-09T14:18:51.125694Z"
    }
   },
   "outputs": [],
   "source": [
    "clf.fit(X_train, y_train)\n",
    "y_pred = clf.predict(X_test)"
   ]
  },
  {
   "cell_type": "markdown",
   "id": "e62c2fa0",
   "metadata": {},
   "source": [
    "# Evaluation"
   ]
  },
  {
   "cell_type": "code",
   "execution_count": 9,
   "id": "8625d63a",
   "metadata": {
    "ExecuteTime": {
     "end_time": "2021-11-09T14:18:51.693440Z",
     "start_time": "2021-11-09T14:18:51.679343Z"
    }
   },
   "outputs": [],
   "source": [
    "from sklearn.metrics import f1_score, classification_report, accuracy_score"
   ]
  },
  {
   "cell_type": "code",
   "execution_count": 10,
   "id": "bbb066d5",
   "metadata": {
    "ExecuteTime": {
     "end_time": "2021-11-09T14:18:51.708651Z",
     "start_time": "2021-11-09T14:18:51.696296Z"
    }
   },
   "outputs": [
    {
     "name": "stdout",
     "output_type": "stream",
     "text": [
      "0.5252837977296182\n"
     ]
    }
   ],
   "source": [
    "print(accuracy_score(y_test, y_pred))"
   ]
  },
  {
   "cell_type": "code",
   "execution_count": 11,
   "id": "480c9517",
   "metadata": {
    "ExecuteTime": {
     "end_time": "2021-11-09T14:18:51.724606Z",
     "start_time": "2021-11-09T14:18:51.709647Z"
    }
   },
   "outputs": [
    {
     "name": "stdout",
     "output_type": "stream",
     "text": [
      "0.7342304457527333\n"
     ]
    }
   ],
   "source": [
    "print(f1_score(y_test, y_pred, average=\"micro\"))"
   ]
  },
  {
   "cell_type": "code",
   "execution_count": 12,
   "id": "7a11ff71",
   "metadata": {
    "ExecuteTime": {
     "end_time": "2021-11-09T14:18:51.755758Z",
     "start_time": "2021-11-09T14:18:51.726641Z"
    }
   },
   "outputs": [
    {
     "name": "stdout",
     "output_type": "stream",
     "text": [
      "                          precision    recall  f1-score   support\n",
      "\n",
      "        AMBIENCE#GENERAL       0.94      0.77      0.85       227\n",
      "           DRINKS#PRICES       0.50      0.13      0.20        47\n",
      "          DRINKS#QUALITY       0.78      0.72      0.75       203\n",
      "    DRINKS#STYLE&OPTIONS       0.77      0.56      0.65       129\n",
      "             FOOD#PRICES       0.56      0.17      0.26       112\n",
      "            FOOD#QUALITY       0.80      0.79      0.79       554\n",
      "      FOOD#STYLE&OPTIONS       0.78      0.68      0.72       437\n",
      "        LOCATION#GENERAL       0.96      0.68      0.80       104\n",
      "      RESTAURANT#GENERAL       0.75      0.53      0.62       251\n",
      "RESTAURANT#MISCELLANEOUS       0.86      0.50      0.63       145\n",
      "       RESTAURANT#PRICES       0.85      0.65      0.74       117\n",
      "         SERVICE#GENERAL       0.92      0.81      0.86       303\n",
      "\n",
      "               micro avg       0.82      0.66      0.73      2629\n",
      "               macro avg       0.79      0.58      0.66      2629\n",
      "            weighted avg       0.81      0.66      0.72      2629\n",
      "             samples avg       0.71      0.69      0.68      2629\n",
      "\n"
     ]
    }
   ],
   "source": [
    "print(\n",
    "    classification_report(y_test,\n",
    "                          y_pred,\n",
    "                          target_names=mlb.classes_,\n",
    "                          zero_division=0))"
   ]
  },
  {
   "cell_type": "code",
   "execution_count": 13,
   "id": "783f67eb",
   "metadata": {
    "ExecuteTime": {
     "end_time": "2021-11-09T14:18:51.803108Z",
     "start_time": "2021-11-09T14:18:51.757754Z"
    }
   },
   "outputs": [
    {
     "data": {
      "text/html": [
       "<div>\n",
       "<style scoped>\n",
       "    .dataframe tbody tr th:only-of-type {\n",
       "        vertical-align: middle;\n",
       "    }\n",
       "\n",
       "    .dataframe tbody tr th {\n",
       "        vertical-align: top;\n",
       "    }\n",
       "\n",
       "    .dataframe thead th {\n",
       "        text-align: right;\n",
       "    }\n",
       "</style>\n",
       "<table border=\"1\" class=\"dataframe\">\n",
       "  <thead>\n",
       "    <tr style=\"text-align: right;\">\n",
       "      <th></th>\n",
       "      <th>Body</th>\n",
       "      <th>Actual</th>\n",
       "      <th>Predicted</th>\n",
       "    </tr>\n",
       "  </thead>\n",
       "  <tbody>\n",
       "    <tr>\n",
       "      <th>1698</th>\n",
       "      <td>hình_như nhiệt_độ không chuẩn lắm gọi medium r...</td>\n",
       "      <td>(FOOD#QUALITY,)</td>\n",
       "      <td>(FOOD#QUALITY, FOOD#STYLE&amp;OPTIONS)</td>\n",
       "    </tr>\n",
       "    <tr>\n",
       "      <th>646</th>\n",
       "      <td>giá cũng phải_chăng so với chất_lượng nhu vậy .</td>\n",
       "      <td>(RESTAURANT#PRICES,)</td>\n",
       "      <td>(RESTAURANT#PRICES,)</td>\n",
       "    </tr>\n",
       "    <tr>\n",
       "      <th>388</th>\n",
       "      <td>cửa_hàng ở trong ngõ nhưng khá dễ tìm .</td>\n",
       "      <td>(LOCATION#GENERAL,)</td>\n",
       "      <td>(LOCATION#GENERAL,)</td>\n",
       "    </tr>\n",
       "    <tr>\n",
       "      <th>1446</th>\n",
       "      <td>ăn khá ngon và mình rất thích .</td>\n",
       "      <td>(FOOD#QUALITY,)</td>\n",
       "      <td>(FOOD#QUALITY,)</td>\n",
       "    </tr>\n",
       "    <tr>\n",
       "      <th>1126</th>\n",
       "      <td>ở đây nếu không dùng buffet cũng có_thể gọi mó...</td>\n",
       "      <td>(RESTAURANT#GENERAL,)</td>\n",
       "      <td>()</td>\n",
       "    </tr>\n",
       "    <tr>\n",
       "      <th>84</th>\n",
       "      <td>ngày_xưa quán bán ở ngã tư cô giang , đề thám .</td>\n",
       "      <td>(LOCATION#GENERAL,)</td>\n",
       "      <td>(RESTAURANT#GENERAL,)</td>\n",
       "    </tr>\n",
       "    <tr>\n",
       "      <th>1752</th>\n",
       "      <td>nằm ngay trên vỉa_hè hàng lược , đây là món ăn...</td>\n",
       "      <td>(LOCATION#GENERAL,)</td>\n",
       "      <td>(LOCATION#GENERAL,)</td>\n",
       "    </tr>\n",
       "    <tr>\n",
       "      <th>715</th>\n",
       "      <td>salad ngon đặc_biệt có bò nướng tái trên bề_mặt .</td>\n",
       "      <td>(FOOD#QUALITY, FOOD#STYLE&amp;OPTIONS)</td>\n",
       "      <td>(FOOD#QUALITY,)</td>\n",
       "    </tr>\n",
       "    <tr>\n",
       "      <th>1001</th>\n",
       "      <td>đồ uống không có gì đặc_sắc cả .</td>\n",
       "      <td>(DRINKS#QUALITY,)</td>\n",
       "      <td>(DRINKS#QUALITY,)</td>\n",
       "    </tr>\n",
       "    <tr>\n",
       "      <th>688</th>\n",
       "      <td>phải nói là hôm đấy cực_kỳ đông .</td>\n",
       "      <td>(RESTAURANT#GENERAL,)</td>\n",
       "      <td>(RESTAURANT#GENERAL,)</td>\n",
       "    </tr>\n",
       "  </tbody>\n",
       "</table>\n",
       "</div>"
      ],
      "text/plain": [
       "                                                   Body  \\\n",
       "1698  hình_như nhiệt_độ không chuẩn lắm gọi medium r...   \n",
       "646     giá cũng phải_chăng so với chất_lượng nhu vậy .   \n",
       "388             cửa_hàng ở trong ngõ nhưng khá dễ tìm .   \n",
       "1446                    ăn khá ngon và mình rất thích .   \n",
       "1126  ở đây nếu không dùng buffet cũng có_thể gọi mó...   \n",
       "84      ngày_xưa quán bán ở ngã tư cô giang , đề thám .   \n",
       "1752  nằm ngay trên vỉa_hè hàng lược , đây là món ăn...   \n",
       "715   salad ngon đặc_biệt có bò nướng tái trên bề_mặt .   \n",
       "1001                   đồ uống không có gì đặc_sắc cả .   \n",
       "688                   phải nói là hôm đấy cực_kỳ đông .   \n",
       "\n",
       "                                  Actual                           Predicted  \n",
       "1698                     (FOOD#QUALITY,)  (FOOD#QUALITY, FOOD#STYLE&OPTIONS)  \n",
       "646                 (RESTAURANT#PRICES,)                (RESTAURANT#PRICES,)  \n",
       "388                  (LOCATION#GENERAL,)                 (LOCATION#GENERAL,)  \n",
       "1446                     (FOOD#QUALITY,)                     (FOOD#QUALITY,)  \n",
       "1126               (RESTAURANT#GENERAL,)                                  ()  \n",
       "84                   (LOCATION#GENERAL,)               (RESTAURANT#GENERAL,)  \n",
       "1752                 (LOCATION#GENERAL,)                 (LOCATION#GENERAL,)  \n",
       "715   (FOOD#QUALITY, FOOD#STYLE&OPTIONS)                     (FOOD#QUALITY,)  \n",
       "1001                   (DRINKS#QUALITY,)                   (DRINKS#QUALITY,)  \n",
       "688                (RESTAURANT#GENERAL,)               (RESTAURANT#GENERAL,)  "
      ]
     },
     "execution_count": 13,
     "metadata": {},
     "output_type": "execute_result"
    }
   ],
   "source": [
    "import numpy as np\n",
    "\n",
    "pred = mlb.inverse_transform(np.array(y_pred))\n",
    "act = mlb.inverse_transform(y_test)\n",
    "\n",
    "df = pd.DataFrame({\"Body\": X_test, \"Actual\": act, \"Predicted\": pred})\n",
    "df.sample(10)"
   ]
  }
 ],
 "metadata": {
  "hide_input": false,
  "kernelspec": {
   "display_name": "Python 3 (ipykernel)",
   "language": "python",
   "name": "python3"
  },
  "language_info": {
   "codemirror_mode": {
    "name": "ipython",
    "version": 3
   },
   "file_extension": ".py",
   "mimetype": "text/x-python",
   "name": "python",
   "nbconvert_exporter": "python",
   "pygments_lexer": "ipython3",
   "version": "3.8.8"
  },
  "nbTranslate": {
   "displayLangs": [
    "*"
   ],
   "hotkey": "alt-t",
   "langInMainMenu": true,
   "sourceLang": "en",
   "targetLang": "fr",
   "useGoogleTranslate": true
  },
  "toc": {
   "base_numbering": 1,
   "nav_menu": {},
   "number_sections": true,
   "sideBar": true,
   "skip_h1_title": false,
   "title_cell": "Table of Contents",
   "title_sidebar": "Contents",
   "toc_cell": false,
   "toc_position": {},
   "toc_section_display": true,
   "toc_window_display": false
  },
  "varInspector": {
   "cols": {
    "lenName": 16,
    "lenType": 16,
    "lenVar": 40
   },
   "kernels_config": {
    "python": {
     "delete_cmd_postfix": "",
     "delete_cmd_prefix": "del ",
     "library": "var_list.py",
     "varRefreshCmd": "print(var_dic_list())"
    },
    "r": {
     "delete_cmd_postfix": ") ",
     "delete_cmd_prefix": "rm(",
     "library": "var_list.r",
     "varRefreshCmd": "cat(var_dic_list()) "
    }
   },
   "types_to_exclude": [
    "module",
    "function",
    "builtin_function_or_method",
    "instance",
    "_Feature"
   ],
   "window_display": false
  }
 },
 "nbformat": 4,
 "nbformat_minor": 5
}
